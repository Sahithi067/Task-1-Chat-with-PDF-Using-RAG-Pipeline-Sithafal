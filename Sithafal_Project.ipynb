{
 "cells": [
  {
   "cell_type": "code",
   "execution_count": 1,
   "id": "3c7d4697-2e5c-4cb4-871d-e66431263394",
   "metadata": {},
   "outputs": [
    {
     "name": "stdout",
     "output_type": "stream",
     "text": [
      "Requirement already satisfied: PyMuPDF in c:\\users\\eg 1000tx\\anaconda3\\lib\\site-packages (1.25.1)\n",
      "PyMuPDF is successfully installed!\n"
     ]
    }
   ],
   "source": [
    "!pip install PyMuPDF\n",
    "import fitz\n",
    "print(\"PyMuPDF is successfully installed!\")\n",
    "import os\n",
    "os.environ[\"HF_HUB_DISABLE_SYMLINKS_WARNING\"] = \"1\""
   ]
  },
  {
   "cell_type": "code",
   "execution_count": 2,
   "id": "8be45f3f-bccb-47be-bc3a-b59b3e7fa995",
   "metadata": {},
   "outputs": [],
   "source": [
    "import fitz  # PyMuPDF\n",
    "\n",
    "def extract_text_from_pdf(Sithafal_Task1):\n",
    "    doc = fitz.open(Sithafal_Task1)\n",
    "    text = \"\"\n",
    "    for page in doc:\n",
    "        text += page.get_text()\n",
    "    return text"
   ]
  },
  {
   "cell_type": "code",
   "execution_count": 3,
   "id": "948ad1cc-d74b-400f-8891-2816874071b9",
   "metadata": {},
   "outputs": [],
   "source": [
    "from sentence_transformers import SentenceTransformer\n",
    "\n",
    "model = SentenceTransformer('all-MiniLM-L6-v2')\n",
    "def embed_chunks(chunks):\n",
    "    embeddings = model.encode(chunks)\n",
    "    return embeddings\n"
   ]
  },
  {
   "cell_type": "code",
   "execution_count": 4,
   "id": "8c208e97-fa33-49dc-bfd1-4f6e2518f5b8",
   "metadata": {},
   "outputs": [
    {
     "name": "stdout",
     "output_type": "stream",
     "text": [
      "Requirement already satisfied: faiss-cpu in c:\\users\\eg 1000tx\\anaconda3\\lib\\site-packages (1.9.0.post1)\n",
      "Requirement already satisfied: numpy<3.0,>=1.25.0 in c:\\users\\eg 1000tx\\anaconda3\\lib\\site-packages (from faiss-cpu) (1.26.4)\n",
      "Requirement already satisfied: packaging in c:\\users\\eg 1000tx\\anaconda3\\lib\\site-packages (from faiss-cpu) (23.1)\n"
     ]
    }
   ],
   "source": [
    "!pip install faiss-cpu"
   ]
  },
  {
   "cell_type": "code",
   "execution_count": 5,
   "id": "b21599f9-b6ad-4654-81ea-e27d62ff088f",
   "metadata": {},
   "outputs": [
    {
     "name": "stdout",
     "output_type": "stream",
     "text": [
      "FAISS successfully imported!\n"
     ]
    }
   ],
   "source": [
    "import faiss\n",
    "print(\"FAISS successfully imported!\")\n"
   ]
  },
  {
   "cell_type": "code",
   "execution_count": 6,
   "id": "23e64f01-014b-4fbf-87f4-abbd46343f22",
   "metadata": {},
   "outputs": [],
   "source": [
    "import faiss\n",
    "import numpy as np\n",
    "\n",
    "def store_embeddings(embeddings):\n",
    "    dim = embeddings.shape[1]\n",
    "    index = faiss.IndexFlatL2(dim)\n",
    "    index.add(embeddings)\n",
    "    return index\n"
   ]
  },
  {
   "cell_type": "code",
   "execution_count": 7,
   "id": "d8a05f07-18f0-4de3-bb70-42eed4920d56",
   "metadata": {},
   "outputs": [],
   "source": [
    "def retrieve_chunks(query, index, chunks, k=5):\n",
    "    query_embedding = model.encode([query])\n",
    "    distances, indices = index.search(query_embedding, k)\n",
    "    results = [chunks[i] for i in indices[0]]\n",
    "    return results\n"
   ]
  },
  {
   "cell_type": "code",
   "execution_count": 8,
   "id": "38a11607-7807-4caa-a08f-3d7bae4e0406",
   "metadata": {},
   "outputs": [],
   "source": [
    "import pandas as pd\n",
    "\n",
    "def compare_data(chunks):\n",
    "    # Parse chunks for structured data\n",
    "    data = []\n",
    "    for chunk in chunks:\n",
    "        # Assume data parsing logic here\n",
    "        data.append(parse_data(chunk))\n",
    "    df = pd.DataFrame(data)\n",
    "    return df\n"
   ]
  },
  {
   "cell_type": "code",
   "execution_count": 9,
   "id": "42707d19-7835-4faa-b46b-a0cc2163e442",
   "metadata": {},
   "outputs": [
    {
     "name": "stdout",
     "output_type": "stream",
     "text": [
      "Requirement already satisfied: openai in c:\\users\\eg 1000tx\\anaconda3\\lib\\site-packages (1.57.4)\n",
      "Requirement already satisfied: anyio<5,>=3.5.0 in c:\\users\\eg 1000tx\\anaconda3\\lib\\site-packages (from openai) (4.2.0)\n",
      "Requirement already satisfied: distro<2,>=1.7.0 in c:\\users\\eg 1000tx\\anaconda3\\lib\\site-packages (from openai) (1.8.0)\n",
      "Requirement already satisfied: httpx<1,>=0.23.0 in c:\\users\\eg 1000tx\\anaconda3\\lib\\site-packages (from openai) (0.28.1)\n",
      "Requirement already satisfied: jiter<1,>=0.4.0 in c:\\users\\eg 1000tx\\anaconda3\\lib\\site-packages (from openai) (0.8.2)\n",
      "Requirement already satisfied: pydantic<3,>=1.9.0 in c:\\users\\eg 1000tx\\anaconda3\\lib\\site-packages (from openai) (1.10.12)\n",
      "Requirement already satisfied: sniffio in c:\\users\\eg 1000tx\\anaconda3\\lib\\site-packages (from openai) (1.3.0)\n",
      "Requirement already satisfied: tqdm>4 in c:\\users\\eg 1000tx\\anaconda3\\lib\\site-packages (from openai) (4.65.0)\n",
      "Requirement already satisfied: typing-extensions<5,>=4.11 in c:\\users\\eg 1000tx\\anaconda3\\lib\\site-packages (from openai) (4.12.2)\n",
      "Requirement already satisfied: idna>=2.8 in c:\\users\\eg 1000tx\\anaconda3\\lib\\site-packages (from anyio<5,>=3.5.0->openai) (3.4)\n",
      "Requirement already satisfied: certifi in c:\\users\\eg 1000tx\\anaconda3\\lib\\site-packages (from httpx<1,>=0.23.0->openai) (2024.2.2)\n",
      "Requirement already satisfied: httpcore==1.* in c:\\users\\eg 1000tx\\anaconda3\\lib\\site-packages (from httpx<1,>=0.23.0->openai) (1.0.7)\n",
      "Requirement already satisfied: h11<0.15,>=0.13 in c:\\users\\eg 1000tx\\anaconda3\\lib\\site-packages (from httpcore==1.*->httpx<1,>=0.23.0->openai) (0.14.0)\n",
      "Requirement already satisfied: colorama in c:\\users\\eg 1000tx\\anaconda3\\lib\\site-packages (from tqdm>4->openai) (0.4.6)\n"
     ]
    }
   ],
   "source": [
    "!pip install openai\n"
   ]
  },
  {
   "cell_type": "code",
   "execution_count": 10,
   "id": "89441025-72b3-4807-8c1b-1b44f8ba99a6",
   "metadata": {},
   "outputs": [
    {
     "name": "stdout",
     "output_type": "stream",
     "text": [
      "Requirement already satisfied: typing_extensions in c:\\users\\eg 1000tx\\anaconda3\\lib\\site-packages (4.12.2)\n"
     ]
    }
   ],
   "source": [
    "!pip install --upgrade typing_extensions\n"
   ]
  },
  {
   "cell_type": "code",
   "execution_count": 11,
   "id": "2d085436-a598-4a52-a56d-8201162bd5ca",
   "metadata": {},
   "outputs": [
    {
     "name": "stdout",
     "output_type": "stream",
     "text": [
      "Requirement already satisfied: typing_extensions in c:\\users\\eg 1000tx\\anaconda3\\lib\\site-packages (4.12.2)\n"
     ]
    }
   ],
   "source": [
    "!pip install --upgrade typing_extensions"
   ]
  },
  {
   "cell_type": "code",
   "execution_count": 12,
   "id": "41ab75e8-30d0-4de9-8bf1-f40e2c41227e",
   "metadata": {},
   "outputs": [
    {
     "name": "stdout",
     "output_type": "stream",
     "text": [
      "Found existing installation: typing_extensions 4.12.2\n",
      "Uninstalling typing_extensions-4.12.2:\n",
      "  Successfully uninstalled typing_extensions-4.12.2\n",
      "Collecting typing_extensions\n",
      "  Using cached typing_extensions-4.12.2-py3-none-any.whl.metadata (3.0 kB)\n",
      "Using cached typing_extensions-4.12.2-py3-none-any.whl (37 kB)\n",
      "Installing collected packages: typing_extensions\n",
      "Successfully installed typing_extensions-4.12.2\n"
     ]
    }
   ],
   "source": [
    "!pip uninstall typing_extensions -y\n",
    "!pip install typing_extensions"
   ]
  },
  {
   "cell_type": "code",
   "execution_count": 13,
   "id": "579fc543-0efd-4f2d-a0ca-e1b4e2534d5f",
   "metadata": {},
   "outputs": [
    {
     "name": "stdout",
     "output_type": "stream",
     "text": [
      "4.12.2\n"
     ]
    }
   ],
   "source": [
    "import importlib.metadata\n",
    "print(importlib.metadata.version('typing_extensions'))"
   ]
  },
  {
   "cell_type": "code",
   "execution_count": 14,
   "id": "ebe7b1e1-19bf-493e-b723-af2a536d4f2f",
   "metadata": {},
   "outputs": [
    {
     "data": {
      "text/plain": [
       "CompletedProcess(args=['pip', 'show', 'typing_extensions'], returncode=0)"
      ]
     },
     "execution_count": 14,
     "metadata": {},
     "output_type": "execute_result"
    }
   ],
   "source": [
    "import subprocess\n",
    "subprocess.run([\"pip\", \"show\", \"typing_extensions\"])\n"
   ]
  },
  {
   "cell_type": "code",
   "execution_count": 15,
   "id": "5a8e444e-5a01-45da-bb4f-5441737330ac",
   "metadata": {},
   "outputs": [
    {
     "name": "stdout",
     "output_type": "stream",
     "text": [
      "%CONDA_DEFAULT_ENV%\n"
     ]
    }
   ],
   "source": [
    "!echo %CONDA_DEFAULT_ENV%\n"
   ]
  },
  {
   "cell_type": "code",
   "execution_count": 16,
   "id": "9f1ad3c7-c7f6-48ca-a47a-2ec38d5513a2",
   "metadata": {},
   "outputs": [
    {
     "name": "stdout",
     "output_type": "stream",
     "text": [
      "Requirement already satisfied: typing-extensions in c:\\users\\eg 1000tx\\anaconda3\\lib\\site-packages (4.12.2)Note: you may need to restart the kernel to use updated packages.\n",
      "\n",
      "Requirement already satisfied: openai in c:\\users\\eg 1000tx\\anaconda3\\lib\\site-packages (1.57.4)\n",
      "Requirement already satisfied: huggingface-hub in c:\\users\\eg 1000tx\\anaconda3\\lib\\site-packages (0.26.5)\n",
      "Requirement already satisfied: anyio<5,>=3.5.0 in c:\\users\\eg 1000tx\\anaconda3\\lib\\site-packages (from openai) (4.2.0)\n",
      "Requirement already satisfied: distro<2,>=1.7.0 in c:\\users\\eg 1000tx\\anaconda3\\lib\\site-packages (from openai) (1.8.0)\n",
      "Requirement already satisfied: httpx<1,>=0.23.0 in c:\\users\\eg 1000tx\\anaconda3\\lib\\site-packages (from openai) (0.28.1)\n",
      "Requirement already satisfied: jiter<1,>=0.4.0 in c:\\users\\eg 1000tx\\anaconda3\\lib\\site-packages (from openai) (0.8.2)\n",
      "Requirement already satisfied: pydantic<3,>=1.9.0 in c:\\users\\eg 1000tx\\anaconda3\\lib\\site-packages (from openai) (1.10.12)\n",
      "Requirement already satisfied: sniffio in c:\\users\\eg 1000tx\\anaconda3\\lib\\site-packages (from openai) (1.3.0)\n",
      "Requirement already satisfied: tqdm>4 in c:\\users\\eg 1000tx\\anaconda3\\lib\\site-packages (from openai) (4.65.0)\n",
      "Requirement already satisfied: filelock in c:\\users\\eg 1000tx\\anaconda3\\lib\\site-packages (from huggingface-hub) (3.13.1)\n",
      "Requirement already satisfied: fsspec>=2023.5.0 in c:\\users\\eg 1000tx\\anaconda3\\lib\\site-packages (from huggingface-hub) (2023.10.0)\n",
      "Requirement already satisfied: packaging>=20.9 in c:\\users\\eg 1000tx\\anaconda3\\lib\\site-packages (from huggingface-hub) (23.1)\n",
      "Requirement already satisfied: pyyaml>=5.1 in c:\\users\\eg 1000tx\\anaconda3\\lib\\site-packages (from huggingface-hub) (6.0.1)\n",
      "Requirement already satisfied: requests in c:\\users\\eg 1000tx\\anaconda3\\lib\\site-packages (from huggingface-hub) (2.31.0)\n",
      "Requirement already satisfied: idna>=2.8 in c:\\users\\eg 1000tx\\anaconda3\\lib\\site-packages (from anyio<5,>=3.5.0->openai) (3.4)\n",
      "Requirement already satisfied: certifi in c:\\users\\eg 1000tx\\anaconda3\\lib\\site-packages (from httpx<1,>=0.23.0->openai) (2024.2.2)\n",
      "Requirement already satisfied: httpcore==1.* in c:\\users\\eg 1000tx\\anaconda3\\lib\\site-packages (from httpx<1,>=0.23.0->openai) (1.0.7)\n",
      "Requirement already satisfied: h11<0.15,>=0.13 in c:\\users\\eg 1000tx\\anaconda3\\lib\\site-packages (from httpcore==1.*->httpx<1,>=0.23.0->openai) (0.14.0)\n",
      "Requirement already satisfied: colorama in c:\\users\\eg 1000tx\\anaconda3\\lib\\site-packages (from tqdm>4->openai) (0.4.6)\n",
      "Requirement already satisfied: charset-normalizer<4,>=2 in c:\\users\\eg 1000tx\\anaconda3\\lib\\site-packages (from requests->huggingface-hub) (2.0.4)\n",
      "Requirement already satisfied: urllib3<3,>=1.21.1 in c:\\users\\eg 1000tx\\anaconda3\\lib\\site-packages (from requests->huggingface-hub) (2.0.7)\n"
     ]
    }
   ],
   "source": [
    "pip install typing-extensions openai huggingface-hub\n"
   ]
  },
  {
   "cell_type": "code",
   "execution_count": 17,
   "id": "d0d79453-b997-48de-890f-64d41c571008",
   "metadata": {},
   "outputs": [
    {
     "name": "stdout",
     "output_type": "stream",
     "text": [
      "Requirement already satisfied: typing-extensions in c:\\users\\eg 1000tx\\anaconda3\\lib\\site-packages (4.12.2)\n",
      "Note: you may need to restart the kernel to use updated packages.\n"
     ]
    }
   ],
   "source": [
    "pip install --upgrade typing-extensions\n"
   ]
  },
  {
   "cell_type": "code",
   "execution_count": 22,
   "id": "13c0b6a8-3088-4308-b58c-f49bc96f8913",
   "metadata": {},
   "outputs": [],
   "source": [
    "from openai import ChatCompletion\n",
    "\n",
    "def generate_response(prompt, retrieved_chunks):\n",
    "    context = \"\\n\".join(retrieved_chunks)\n",
    "    full_prompt = f\"{context}\\n\\nQuestion: {prompt}\\nAnswer:\"\n",
    "    response = ChatCompletion.create(model=\"gpt-4\", prompt=full_prompt)\n",
    "    return response.choices[0].text\n"
   ]
  },
  {
   "cell_type": "code",
   "execution_count": 30,
   "id": "439d358c-a0be-4b45-a9a4-0d9a0fd2d60e",
   "metadata": {},
   "outputs": [
    {
     "name": "stdout",
     "output_type": "stream",
     "text": [
      "Collecting camelot-py[cv]\n",
      "  Downloading camelot_py-0.11.0-py3-none-any.whl.metadata (8.3 kB)\n",
      "Requirement already satisfied: chardet>=3.0.4 in c:\\users\\eg 1000tx\\anaconda3\\lib\\site-packages (from camelot-py[cv]) (4.0.0)\n",
      "Requirement already satisfied: click>=6.7 in c:\\users\\eg 1000tx\\anaconda3\\lib\\site-packages (from camelot-py[cv]) (8.1.7)\n",
      "Requirement already satisfied: numpy>=1.13.3 in c:\\users\\eg 1000tx\\anaconda3\\lib\\site-packages (from camelot-py[cv]) (1.26.4)\n",
      "Requirement already satisfied: openpyxl>=2.5.8 in c:\\users\\eg 1000tx\\anaconda3\\lib\\site-packages (from camelot-py[cv]) (3.0.10)\n",
      "Requirement already satisfied: pandas>=0.23.4 in c:\\users\\eg 1000tx\\anaconda3\\lib\\site-packages (from camelot-py[cv]) (2.1.4)\n",
      "Collecting pdfminer.six>=20200726 (from camelot-py[cv])\n",
      "  Downloading pdfminer.six-20240706-py3-none-any.whl.metadata (4.1 kB)\n",
      "Collecting pypdf>=3.0.0 (from camelot-py[cv])\n",
      "  Downloading pypdf-5.1.0-py3-none-any.whl.metadata (7.2 kB)\n",
      "Requirement already satisfied: tabulate>=0.8.9 in c:\\users\\eg 1000tx\\anaconda3\\lib\\site-packages (from camelot-py[cv]) (0.9.0)\n",
      "Collecting ghostscript>=0.7 (from camelot-py[cv])\n",
      "  Downloading ghostscript-0.7-py2.py3-none-any.whl.metadata (4.4 kB)\n",
      "Collecting opencv-python>=3.4.2.17 (from camelot-py[cv])\n",
      "  Using cached opencv_python-4.10.0.84-cp37-abi3-win_amd64.whl.metadata (20 kB)\n",
      "INFO: pip is looking at multiple versions of camelot-py[cv] to determine which version is compatible with other requirements. This could take a while.\n",
      "Collecting camelot-py[cv]\n",
      "  Downloading camelot_py-0.10.1-py3-none-any.whl.metadata (8.3 kB)\n",
      "Collecting PyPDF2>=1.26.0 (from camelot-py[cv])\n",
      "  Downloading pypdf2-3.0.1-py3-none-any.whl.metadata (6.8 kB)\n",
      "Collecting camelot-py[cv]\n",
      "  Downloading camelot_py-0.10.0-py3-none-any.whl.metadata (8.3 kB)\n",
      "  Downloading camelot_py-0.9.0-py3-none-any.whl.metadata (7.5 kB)\n",
      "Requirement already satisfied: colorama in c:\\users\\eg 1000tx\\anaconda3\\lib\\site-packages (from click>=6.7->camelot-py[cv]) (0.4.6)\n",
      "Requirement already satisfied: et_xmlfile in c:\\users\\eg 1000tx\\anaconda3\\lib\\site-packages (from openpyxl>=2.5.8->camelot-py[cv]) (1.1.0)\n",
      "Requirement already satisfied: python-dateutil>=2.8.2 in c:\\users\\eg 1000tx\\anaconda3\\lib\\site-packages (from pandas>=0.23.4->camelot-py[cv]) (2.8.2)\n",
      "Requirement already satisfied: pytz>=2020.1 in c:\\users\\eg 1000tx\\anaconda3\\lib\\site-packages (from pandas>=0.23.4->camelot-py[cv]) (2023.3.post1)\n",
      "Requirement already satisfied: tzdata>=2022.1 in c:\\users\\eg 1000tx\\anaconda3\\lib\\site-packages (from pandas>=0.23.4->camelot-py[cv]) (2023.3)\n",
      "Requirement already satisfied: charset-normalizer>=2.0.0 in c:\\users\\eg 1000tx\\anaconda3\\lib\\site-packages (from pdfminer.six>=20200726->camelot-py[cv]) (2.0.4)\n",
      "Requirement already satisfied: cryptography>=36.0.0 in c:\\users\\eg 1000tx\\anaconda3\\lib\\site-packages (from pdfminer.six>=20200726->camelot-py[cv]) (42.0.2)\n",
      "Requirement already satisfied: cffi>=1.12 in c:\\users\\eg 1000tx\\anaconda3\\lib\\site-packages (from cryptography>=36.0.0->pdfminer.six>=20200726->camelot-py[cv]) (1.16.0)\n",
      "Requirement already satisfied: six>=1.5 in c:\\users\\eg 1000tx\\anaconda3\\lib\\site-packages (from python-dateutil>=2.8.2->pandas>=0.23.4->camelot-py[cv]) (1.16.0)\n",
      "Requirement already satisfied: pycparser in c:\\users\\eg 1000tx\\anaconda3\\lib\\site-packages (from cffi>=1.12->cryptography>=36.0.0->pdfminer.six>=20200726->camelot-py[cv]) (2.21)\n",
      "Using cached opencv_python-4.10.0.84-cp37-abi3-win_amd64.whl (38.8 MB)\n",
      "Downloading pdfminer.six-20240706-py3-none-any.whl (5.6 MB)\n",
      "   ---------------------------------------- 0.0/5.6 MB ? eta -:--:--\n",
      "   ---------------------------------------- 0.0/5.6 MB 1.3 MB/s eta 0:00:05\n",
      "    --------------------------------------- 0.1/5.6 MB 1.1 MB/s eta 0:00:06\n",
      "   - -------------------------------------- 0.2/5.6 MB 1.7 MB/s eta 0:00:04\n",
      "   -- ------------------------------------- 0.3/5.6 MB 1.6 MB/s eta 0:00:04\n",
      "   -- ------------------------------------- 0.4/5.6 MB 1.7 MB/s eta 0:00:04\n",
      "   --- ------------------------------------ 0.5/5.6 MB 2.0 MB/s eta 0:00:03\n",
      "   ---- ----------------------------------- 0.6/5.6 MB 2.0 MB/s eta 0:00:03\n",
      "   ----- ---------------------------------- 0.8/5.6 MB 2.1 MB/s eta 0:00:03\n",
      "   ------ --------------------------------- 0.9/5.6 MB 2.1 MB/s eta 0:00:03\n",
      "   ------- -------------------------------- 1.0/5.6 MB 2.1 MB/s eta 0:00:03\n",
      "   ------- -------------------------------- 1.1/5.6 MB 2.2 MB/s eta 0:00:03\n",
      "   -------- ------------------------------- 1.3/5.6 MB 2.3 MB/s eta 0:00:02\n",
      "   --------- ------------------------------ 1.4/5.6 MB 2.3 MB/s eta 0:00:02\n",
      "   ---------- ----------------------------- 1.5/5.6 MB 2.3 MB/s eta 0:00:02\n",
      "   ----------- ---------------------------- 1.7/5.6 MB 2.5 MB/s eta 0:00:02\n",
      "   ------------ --------------------------- 1.8/5.6 MB 2.5 MB/s eta 0:00:02\n",
      "   -------------- ------------------------- 2.0/5.6 MB 2.6 MB/s eta 0:00:02\n",
      "   -------------- ------------------------- 2.1/5.6 MB 2.6 MB/s eta 0:00:02\n",
      "   ---------------- ----------------------- 2.3/5.6 MB 2.6 MB/s eta 0:00:02\n",
      "   ---------------- ----------------------- 2.4/5.6 MB 2.6 MB/s eta 0:00:02\n",
      "   ------------------ --------------------- 2.5/5.6 MB 2.7 MB/s eta 0:00:02\n",
      "   ------------------- -------------------- 2.7/5.6 MB 2.7 MB/s eta 0:00:02\n",
      "   -------------------- ------------------- 2.9/5.6 MB 2.8 MB/s eta 0:00:01\n",
      "   ---------------------- ----------------- 3.1/5.6 MB 2.9 MB/s eta 0:00:01\n",
      "   ----------------------- ---------------- 3.3/5.6 MB 2.9 MB/s eta 0:00:01\n",
      "   ------------------------ --------------- 3.5/5.6 MB 3.0 MB/s eta 0:00:01\n",
      "   ------------------------- -------------- 3.6/5.6 MB 2.9 MB/s eta 0:00:01\n",
      "   -------------------------- ------------- 3.7/5.6 MB 3.0 MB/s eta 0:00:01\n",
      "   ---------------------------- ----------- 4.0/5.6 MB 3.0 MB/s eta 0:00:01\n",
      "   ----------------------------- ---------- 4.2/5.6 MB 3.0 MB/s eta 0:00:01\n",
      "   ------------------------------ --------- 4.3/5.6 MB 3.1 MB/s eta 0:00:01\n",
      "   -------------------------------- ------- 4.6/5.6 MB 3.2 MB/s eta 0:00:01\n",
      "   ---------------------------------- ----- 4.9/5.6 MB 3.3 MB/s eta 0:00:01\n",
      "   ------------------------------------ --- 5.1/5.6 MB 3.3 MB/s eta 0:00:01\n",
      "   ------------------------------------- -- 5.3/5.6 MB 3.3 MB/s eta 0:00:01\n",
      "   ---------------------------------------  5.6/5.6 MB 3.4 MB/s eta 0:00:01\n",
      "   ---------------------------------------  5.6/5.6 MB 3.4 MB/s eta 0:00:01\n",
      "   ---------------------------------------- 5.6/5.6 MB 3.3 MB/s eta 0:00:00\n",
      "Downloading pypdf2-3.0.1-py3-none-any.whl (232 kB)\n",
      "   ---------------------------------------- 0.0/232.6 kB ? eta -:--:--\n",
      "   ----------------------------------- ---- 204.8/232.6 kB 6.3 MB/s eta 0:00:01\n",
      "   ---------------------------------------- 232.6/232.6 kB 4.7 MB/s eta 0:00:00\n",
      "Downloading camelot_py-0.9.0-py3-none-any.whl (43 kB)\n",
      "   ---------------------------------------- 0.0/43.2 kB ? eta -:--:--\n",
      "   ---------------------------------------- 43.2/43.2 kB 1.1 MB/s eta 0:00:00\n",
      "Installing collected packages: PyPDF2, opencv-python, pdfminer.six, camelot-py\n",
      "Successfully installed PyPDF2-3.0.1 camelot-py-0.9.0 opencv-python-4.10.0.84 pdfminer.six-20240706\n",
      "Note: you may need to restart the kernel to use updated packages.\n"
     ]
    }
   ],
   "source": [
    "pip install camelot-py[cv]\n"
   ]
  },
  {
   "cell_type": "code",
   "execution_count": 35,
   "id": "9bcee445-c6b2-4ce8-b2dd-f72caac5f82d",
   "metadata": {},
   "outputs": [
    {
     "name": "stdout",
     "output_type": "stream",
     "text": [
      "Table of Yearly U.S. GDP by \n",
      "Industry (in millions of dollars)\n",
      "Year 2010 2011 2012 2013 2014 2015\n",
      "All Industries 26093515 27535971 28663246 29601191 30895407 31397023\n",
      "Manufacturing 4992521 5581942 5841608 5953299 6047477 5829554\n",
      "Finance,\n",
      "Insurance, Real \n",
      "Estate, Rental, \n",
      "Leasing4522451 4618678 4797313 5031881 5339678 5597018\n",
      "Arts, \n",
      "Entertainment, \n",
      "Recreation, \n",
      "Accommodation,\n",
      "and Food Service964032 1015238 1076249 1120496 1189646 1283813\n",
      "Other 15614511 16320113 16948076 17495515 18318606 18686638Source: U.S. Bureau of Labor Statistics\n"
     ]
    }
   ],
   "source": [
    "from PyPDF2 import PdfReader\n",
    "\n",
    "# Open the PDF file\n",
    "reader = PdfReader('Sithafal_Task1.pdf')\n",
    "\n",
    "# Access a specific page\n",
    "page = reader.pages[5]  # Page number starts from 0, so 5 is the 6th page\n",
    "\n",
    "# Extract text from the page\n",
    "text = page.extract_text()\n",
    "\n",
    "# Print the extracted text\n",
    "print(text)\n"
   ]
  },
  {
   "cell_type": "code",
   "execution_count": 41,
   "id": "d24f9fd2-2b12-4eac-92f5-fae12857e2e2",
   "metadata": {},
   "outputs": [
    {
     "name": "stdout",
     "output_type": "stream",
     "text": [
      "Collecting pdfplumber\n",
      "  Downloading pdfplumber-0.11.4-py3-none-any.whl.metadata (41 kB)\n",
      "     ---------------------------------------- 0.0/42.0 kB ? eta -:--:--\n",
      "     --------- ------------------------------ 10.2/42.0 kB ? eta -:--:--\n",
      "     --------------------------- ---------- 30.7/42.0 kB 325.1 kB/s eta 0:00:01\n",
      "     -------------------------------------- 42.0/42.0 kB 407.1 kB/s eta 0:00:00\n",
      "Collecting pdfminer.six==20231228 (from pdfplumber)\n",
      "  Downloading pdfminer.six-20231228-py3-none-any.whl.metadata (4.2 kB)\n",
      "Requirement already satisfied: Pillow>=9.1 in c:\\users\\eg 1000tx\\anaconda3\\lib\\site-packages (from pdfplumber) (10.2.0)\n",
      "Collecting pypdfium2>=4.18.0 (from pdfplumber)\n",
      "  Downloading pypdfium2-4.30.0-py3-none-win_amd64.whl.metadata (48 kB)\n",
      "     ---------------------------------------- 0.0/48.5 kB ? eta -:--:--\n",
      "     -------------------------------- ----- 41.0/48.5 kB 991.0 kB/s eta 0:00:01\n",
      "     -------------------------------------- 48.5/48.5 kB 814.3 kB/s eta 0:00:00\n",
      "Requirement already satisfied: charset-normalizer>=2.0.0 in c:\\users\\eg 1000tx\\anaconda3\\lib\\site-packages (from pdfminer.six==20231228->pdfplumber) (2.0.4)\n",
      "Requirement already satisfied: cryptography>=36.0.0 in c:\\users\\eg 1000tx\\anaconda3\\lib\\site-packages (from pdfminer.six==20231228->pdfplumber) (42.0.2)\n",
      "Requirement already satisfied: cffi>=1.12 in c:\\users\\eg 1000tx\\anaconda3\\lib\\site-packages (from cryptography>=36.0.0->pdfminer.six==20231228->pdfplumber) (1.16.0)\n",
      "Requirement already satisfied: pycparser in c:\\users\\eg 1000tx\\anaconda3\\lib\\site-packages (from cffi>=1.12->cryptography>=36.0.0->pdfminer.six==20231228->pdfplumber) (2.21)\n",
      "Downloading pdfplumber-0.11.4-py3-none-any.whl (59 kB)\n",
      "   ---------------------------------------- 0.0/59.2 kB ? eta -:--:--\n",
      "   -------------------- ------------------- 30.7/59.2 kB ? eta -:--:--\n",
      "   ---------------------------------------- 59.2/59.2 kB 1.0 MB/s eta 0:00:00\n",
      "Downloading pdfminer.six-20231228-py3-none-any.whl (5.6 MB)\n",
      "   ---------------------------------------- 0.0/5.6 MB ? eta -:--:--\n",
      "   ---------------------------------------- 0.0/5.6 MB 660.6 kB/s eta 0:00:09\n",
      "    --------------------------------------- 0.1/5.6 MB 991.0 kB/s eta 0:00:06\n",
      "   - -------------------------------------- 0.1/5.6 MB 1.1 MB/s eta 0:00:06\n",
      "   - -------------------------------------- 0.2/5.6 MB 952.6 kB/s eta 0:00:06\n",
      "   - -------------------------------------- 0.2/5.6 MB 1.1 MB/s eta 0:00:06\n",
      "   -- ------------------------------------- 0.3/5.6 MB 1.0 MB/s eta 0:00:06\n",
      "   -- ------------------------------------- 0.3/5.6 MB 1.1 MB/s eta 0:00:06\n",
      "   -- ------------------------------------- 0.4/5.6 MB 1.1 MB/s eta 0:00:05\n",
      "   --- ------------------------------------ 0.5/5.6 MB 1.1 MB/s eta 0:00:05\n",
      "   --- ------------------------------------ 0.5/5.6 MB 1.2 MB/s eta 0:00:05\n",
      "   ---- ----------------------------------- 0.6/5.6 MB 1.2 MB/s eta 0:00:05\n",
      "   ---- ----------------------------------- 0.6/5.6 MB 1.2 MB/s eta 0:00:05\n",
      "   ----- ---------------------------------- 0.7/5.6 MB 1.2 MB/s eta 0:00:04\n",
      "   ----- ---------------------------------- 0.8/5.6 MB 1.2 MB/s eta 0:00:04\n",
      "   ------ --------------------------------- 0.9/5.6 MB 1.3 MB/s eta 0:00:04\n",
      "   ------ --------------------------------- 0.9/5.6 MB 1.3 MB/s eta 0:00:04\n",
      "   ------- -------------------------------- 1.0/5.6 MB 1.3 MB/s eta 0:00:04\n",
      "   ------- -------------------------------- 1.1/5.6 MB 1.3 MB/s eta 0:00:04\n",
      "   -------- ------------------------------- 1.2/5.6 MB 1.4 MB/s eta 0:00:04\n",
      "   -------- ------------------------------- 1.2/5.6 MB 1.4 MB/s eta 0:00:04\n",
      "   --------- ------------------------------ 1.4/5.6 MB 1.4 MB/s eta 0:00:03\n",
      "   ---------- ----------------------------- 1.4/5.6 MB 1.4 MB/s eta 0:00:03\n",
      "   ---------- ----------------------------- 1.5/5.6 MB 1.5 MB/s eta 0:00:03\n",
      "   ----------- ---------------------------- 1.6/5.6 MB 1.5 MB/s eta 0:00:03\n",
      "   ------------ --------------------------- 1.7/5.6 MB 1.5 MB/s eta 0:00:03\n",
      "   ------------- -------------------------- 1.9/5.6 MB 1.5 MB/s eta 0:00:03\n",
      "   ------------- -------------------------- 1.9/5.6 MB 1.5 MB/s eta 0:00:03\n",
      "   -------------- ------------------------- 2.0/5.6 MB 1.6 MB/s eta 0:00:03\n",
      "   --------------- ------------------------ 2.1/5.6 MB 1.6 MB/s eta 0:00:03\n",
      "   --------------- ------------------------ 2.2/5.6 MB 1.6 MB/s eta 0:00:03\n",
      "   ---------------- ----------------------- 2.3/5.6 MB 1.6 MB/s eta 0:00:03\n",
      "   ----------------- ---------------------- 2.4/5.6 MB 1.7 MB/s eta 0:00:02\n",
      "   ------------------ --------------------- 2.6/5.6 MB 1.7 MB/s eta 0:00:02\n",
      "   ------------------- -------------------- 2.7/5.6 MB 1.7 MB/s eta 0:00:02\n",
      "   -------------------- ------------------- 2.8/5.6 MB 1.7 MB/s eta 0:00:02\n",
      "   -------------------- ------------------- 2.9/5.6 MB 1.8 MB/s eta 0:00:02\n",
      "   ---------------------- ----------------- 3.1/5.6 MB 1.8 MB/s eta 0:00:02\n",
      "   ---------------------- ----------------- 3.2/5.6 MB 1.8 MB/s eta 0:00:02\n",
      "   ----------------------- ---------------- 3.3/5.6 MB 1.9 MB/s eta 0:00:02\n",
      "   ------------------------ --------------- 3.5/5.6 MB 1.9 MB/s eta 0:00:02\n",
      "   ------------------------- -------------- 3.6/5.6 MB 1.9 MB/s eta 0:00:02\n",
      "   --------------------------- ------------ 3.8/5.6 MB 1.9 MB/s eta 0:00:01\n",
      "   --------------------------- ------------ 3.9/5.6 MB 2.0 MB/s eta 0:00:01\n",
      "   ---------------------------- ----------- 4.0/5.6 MB 2.0 MB/s eta 0:00:01\n",
      "   ------------------------------ --------- 4.3/5.6 MB 2.0 MB/s eta 0:00:01\n",
      "   ------------------------------- -------- 4.4/5.6 MB 2.0 MB/s eta 0:00:01\n",
      "   ------------------------------- -------- 4.5/5.6 MB 2.1 MB/s eta 0:00:01\n",
      "   -------------------------------- ------- 4.6/5.6 MB 2.1 MB/s eta 0:00:01\n",
      "   ---------------------------------- ----- 4.8/5.6 MB 2.1 MB/s eta 0:00:01\n",
      "   ---------------------------------- ----- 4.9/5.6 MB 2.1 MB/s eta 0:00:01\n",
      "   ----------------------------------- ---- 5.0/5.6 MB 2.1 MB/s eta 0:00:01\n",
      "   ------------------------------------ --- 5.2/5.6 MB 2.1 MB/s eta 0:00:01\n",
      "   -------------------------------------- - 5.4/5.6 MB 2.2 MB/s eta 0:00:01\n",
      "   ---------------------------------------  5.5/5.6 MB 2.2 MB/s eta 0:00:01\n",
      "   ---------------------------------------- 5.6/5.6 MB 2.2 MB/s eta 0:00:00\n",
      "Downloading pypdfium2-4.30.0-py3-none-win_amd64.whl (2.9 MB)\n",
      "   ---------------------------------------- 0.0/2.9 MB ? eta -:--:--\n",
      "   -- ------------------------------------- 0.2/2.9 MB 5.8 MB/s eta 0:00:01\n",
      "   ---- ----------------------------------- 0.4/2.9 MB 4.4 MB/s eta 0:00:01\n",
      "   ------- -------------------------------- 0.5/2.9 MB 4.1 MB/s eta 0:00:01\n",
      "   -------- ------------------------------- 0.6/2.9 MB 3.6 MB/s eta 0:00:01\n",
      "   ----------- ---------------------------- 0.8/2.9 MB 3.9 MB/s eta 0:00:01\n",
      "   ------------- -------------------------- 1.0/2.9 MB 3.8 MB/s eta 0:00:01\n",
      "   ---------------- ----------------------- 1.2/2.9 MB 4.0 MB/s eta 0:00:01\n",
      "   ------------------- -------------------- 1.4/2.9 MB 4.0 MB/s eta 0:00:01\n",
      "   ---------------------- ----------------- 1.6/2.9 MB 4.1 MB/s eta 0:00:01\n",
      "   ------------------------ --------------- 1.8/2.9 MB 4.0 MB/s eta 0:00:01\n",
      "   ------------------------- -------------- 1.9/2.9 MB 3.8 MB/s eta 0:00:01\n",
      "   ---------------------------- ----------- 2.1/2.9 MB 3.8 MB/s eta 0:00:01\n",
      "   ----------------------------- ---------- 2.1/2.9 MB 3.7 MB/s eta 0:00:01\n",
      "   ------------------------------- -------- 2.3/2.9 MB 3.8 MB/s eta 0:00:01\n",
      "   --------------------------------- ------ 2.4/2.9 MB 3.7 MB/s eta 0:00:01\n",
      "   ------------------------------------ --- 2.7/2.9 MB 3.8 MB/s eta 0:00:01\n",
      "   ---------------------------------------  2.8/2.9 MB 3.8 MB/s eta 0:00:01\n",
      "   ---------------------------------------- 2.9/2.9 MB 3.8 MB/s eta 0:00:00\n",
      "Installing collected packages: pypdfium2, pdfminer.six, pdfplumber\n",
      "  Attempting uninstall: pdfminer.six\n",
      "    Found existing installation: pdfminer.six 20240706\n",
      "    Uninstalling pdfminer.six-20240706:\n",
      "      Successfully uninstalled pdfminer.six-20240706\n",
      "Successfully installed pdfminer.six-20231228 pdfplumber-0.11.4 pypdfium2-4.30.0\n",
      "Note: you may need to restart the kernel to use updated packages.\n"
     ]
    }
   ],
   "source": [
    "pip install pdfplumber\n"
   ]
  },
  {
   "cell_type": "code",
   "execution_count": 45,
   "id": "40f418dc-5432-41c6-929d-e4971ef9a1eb",
   "metadata": {},
   "outputs": [
    {
     "name": "stdout",
     "output_type": "stream",
     "text": [
      "\n"
     ]
    }
   ],
   "source": [
    "from PyPDF2 import PdfReader\n",
    "\n",
    "\n",
    "def extract_text_from_page(pdf_path, page_num):\n",
    "    # Open the PDF file\n",
    "    with open(pdf_path, 'rb') as file:\n",
    "        \n",
    "        reader = PdfReader(file)\n",
    "        \n",
    "        page = reader.pages[page_num - 1]\n",
    "        text = page.extract_text()\n",
    "    return text\n",
    "\n",
    "\n",
    "pdf_path = 'Sithafal_Task1.pdf'\n",
    "page_num = 2\n",
    "text = extract_text_from_page(pdf_path, page_num)\n",
    "print(text)\n"
   ]
  },
  {
   "cell_type": "code",
   "execution_count": 51,
   "id": "f352e6c0-5f1b-44bc-940b-952dc54b0131",
   "metadata": {},
   "outputs": [
    {
     "name": "stdout",
     "output_type": "stream",
     "text": [
      "Unemployment Information for Engineering:\n",
      "No unemployment data found for this degree type.\n"
     ]
    }
   ],
   "source": [
    "import re\n",
    "from PyPDF2 import PdfReader\n",
    "\n",
    "# Function to extract text from a specific page using PdfReader\n",
    "def extract_text_from_page(pdf_path, page_num):\n",
    "    with open(pdf_path, 'rb') as file:\n",
    "        reader = PdfReader(file)  # Using PdfReader from PyPDF2\n",
    "        page = reader.pages[page_num - 1]\n",
    "        text = page.extract_text()\n",
    "    return text\n",
    "\n",
    "\n",
    "def get_unemployment_info(degree_type, pdf_path):\n",
    "    \n",
    "    text = extract_text_from_page(pdf_path, 2)\n",
    "    \n",
    "    \n",
    "    pattern = rf\"(\\b{degree_type}\\b.*?unemployment[\\w\\s]*)\"  \n",
    "    match = re.search(pattern, text, re.DOTALL | re.IGNORECASE)\n",
    "    \n",
    "    if match:\n",
    "        return match.group(0)  \n",
    "    else:\n",
    "        return \"No unemployment data found for this degree type.\"\n",
    "pdf_path = 'Sithafal_Task1.pdf'\n",
    "degree_type = 'Engineering'  \n",
    "unemployment_info = get_unemployment_info(degree_type, pdf_path)\n",
    "print(f\"Unemployment Information for {degree_type}:\")\n",
    "print(unemployment_info)\n"
   ]
  },
  {
   "cell_type": "code",
   "execution_count": 53,
   "id": "5a39c0ff-8014-49d7-aa14-000faa85c17f",
   "metadata": {},
   "outputs": [
    {
     "name": "stdout",
     "output_type": "stream",
     "text": [
      "Requirement already satisfied: camelot-py[cv] in c:\\users\\eg 1000tx\\anaconda3\\lib\\site-packages (0.9.0)\n",
      "Requirement already satisfied: chardet>=3.0.4 in c:\\users\\eg 1000tx\\anaconda3\\lib\\site-packages (from camelot-py[cv]) (4.0.0)\n",
      "Requirement already satisfied: click>=6.7 in c:\\users\\eg 1000tx\\anaconda3\\lib\\site-packages (from camelot-py[cv]) (8.1.7)\n",
      "Requirement already satisfied: numpy>=1.13.3 in c:\\users\\eg 1000tx\\anaconda3\\lib\\site-packages (from camelot-py[cv]) (1.26.4)\n",
      "Requirement already satisfied: openpyxl>=2.5.8 in c:\\users\\eg 1000tx\\anaconda3\\lib\\site-packages (from camelot-py[cv]) (3.0.10)\n",
      "Requirement already satisfied: pandas>=0.23.4 in c:\\users\\eg 1000tx\\anaconda3\\lib\\site-packages (from camelot-py[cv]) (2.1.4)\n",
      "Requirement already satisfied: pdfminer.six>=20200726 in c:\\users\\eg 1000tx\\anaconda3\\lib\\site-packages (from camelot-py[cv]) (20231228)\n",
      "Requirement already satisfied: PyPDF2>=1.26.0 in c:\\users\\eg 1000tx\\anaconda3\\lib\\site-packages (from camelot-py[cv]) (3.0.1)\n",
      "Requirement already satisfied: opencv-python>=3.4.2.17 in c:\\users\\eg 1000tx\\anaconda3\\lib\\site-packages (from camelot-py[cv]) (4.10.0.84)\n",
      "Requirement already satisfied: colorama in c:\\users\\eg 1000tx\\anaconda3\\lib\\site-packages (from click>=6.7->camelot-py[cv]) (0.4.6)\n",
      "Requirement already satisfied: et_xmlfile in c:\\users\\eg 1000tx\\anaconda3\\lib\\site-packages (from openpyxl>=2.5.8->camelot-py[cv]) (1.1.0)\n",
      "Requirement already satisfied: python-dateutil>=2.8.2 in c:\\users\\eg 1000tx\\anaconda3\\lib\\site-packages (from pandas>=0.23.4->camelot-py[cv]) (2.8.2)\n",
      "Requirement already satisfied: pytz>=2020.1 in c:\\users\\eg 1000tx\\anaconda3\\lib\\site-packages (from pandas>=0.23.4->camelot-py[cv]) (2023.3.post1)\n",
      "Requirement already satisfied: tzdata>=2022.1 in c:\\users\\eg 1000tx\\anaconda3\\lib\\site-packages (from pandas>=0.23.4->camelot-py[cv]) (2023.3)\n",
      "Requirement already satisfied: charset-normalizer>=2.0.0 in c:\\users\\eg 1000tx\\anaconda3\\lib\\site-packages (from pdfminer.six>=20200726->camelot-py[cv]) (2.0.4)\n",
      "Requirement already satisfied: cryptography>=36.0.0 in c:\\users\\eg 1000tx\\anaconda3\\lib\\site-packages (from pdfminer.six>=20200726->camelot-py[cv]) (42.0.2)\n",
      "Requirement already satisfied: cffi>=1.12 in c:\\users\\eg 1000tx\\anaconda3\\lib\\site-packages (from cryptography>=36.0.0->pdfminer.six>=20200726->camelot-py[cv]) (1.16.0)\n",
      "Requirement already satisfied: six>=1.5 in c:\\users\\eg 1000tx\\anaconda3\\lib\\site-packages (from python-dateutil>=2.8.2->pandas>=0.23.4->camelot-py[cv]) (1.16.0)\n",
      "Requirement already satisfied: pycparser in c:\\users\\eg 1000tx\\anaconda3\\lib\\site-packages (from cffi>=1.12->cryptography>=36.0.0->pdfminer.six>=20200726->camelot-py[cv]) (2.21)\n",
      "Note: you may need to restart the kernel to use updated packages.\n"
     ]
    }
   ],
   "source": [
    "pip install camelot-py[cv]\n"
   ]
  },
  {
   "cell_type": "code",
   "execution_count": 59,
   "id": "885ef508-6036-4058-a945-0768ae24d9a5",
   "metadata": {},
   "outputs": [
    {
     "name": "stdout",
     "output_type": "stream",
     "text": [
      "Collecting PyPDF2==3.0.0\n",
      "  Downloading pypdf2-3.0.0-py3-none-any.whl.metadata (6.6 kB)\n",
      "Downloading pypdf2-3.0.0-py3-none-any.whl (232 kB)\n",
      "   ---------------------------------------- 0.0/232.4 kB ? eta -:--:--\n",
      "   - -------------------------------------- 10.2/232.4 kB ? eta -:--:--\n",
      "   ----- --------------------------------- 30.7/232.4 kB 445.2 kB/s eta 0:00:01\n",
      "   ------ -------------------------------- 41.0/232.4 kB 281.8 kB/s eta 0:00:01\n",
      "   --------------- ----------------------- 92.2/232.4 kB 585.1 kB/s eta 0:00:01\n",
      "   ------------------ ------------------- 112.6/232.4 kB 547.6 kB/s eta 0:00:01\n",
      "   ------------------------------- ------ 194.6/232.4 kB 737.3 kB/s eta 0:00:01\n",
      "   -------------------------------------- 232.4/232.4 kB 838.4 kB/s eta 0:00:00\n",
      "Installing collected packages: PyPDF2\n",
      "  Attempting uninstall: PyPDF2\n",
      "    Found existing installation: PyPDF2 3.0.1\n",
      "    Uninstalling PyPDF2-3.0.1:\n",
      "      Successfully uninstalled PyPDF2-3.0.1\n",
      "Successfully installed PyPDF2-3.0.0\n"
     ]
    },
    {
     "name": "stderr",
     "output_type": "stream",
     "text": [
      "ERROR: Invalid requirement: '#'\n",
      "ERROR: Invalid requirement: '#'\n"
     ]
    }
   ],
   "source": [
    "!pip install PyPDF2==3.0.0\n",
    "!pip install camelot-py[cv]  # For Camelot\n",
    "!pip install pdfplumber  # If you want to use pdfplumber\n"
   ]
  },
  {
   "cell_type": "code",
   "execution_count": 62,
   "id": "5cc78136-4e85-4088-8792-7a1b7c02ef6f",
   "metadata": {},
   "outputs": [
    {
     "name": "stdout",
     "output_type": "stream",
     "text": [
      "Collecting PyPDF2==1.26.0\n",
      "  Downloading PyPDF2-1.26.0.tar.gz (77 kB)\n",
      "     ---------------------------------------- 0.0/77.6 kB ? eta -:--:--\n",
      "     ----- ---------------------------------- 10.2/77.6 kB ? eta -:--:--\n",
      "     ---------- --------------------------- 20.5/77.6 kB 330.3 kB/s eta 0:00:01\n",
      "     ------------------------------ ------- 61.4/77.6 kB 544.7 kB/s eta 0:00:01\n",
      "     -------------------------------------- 77.6/77.6 kB 477.4 kB/s eta 0:00:00\n",
      "  Preparing metadata (setup.py): started\n",
      "  Preparing metadata (setup.py): finished with status 'done'\n",
      "Building wheels for collected packages: PyPDF2\n",
      "  Building wheel for PyPDF2 (setup.py): started\n",
      "  Building wheel for PyPDF2 (setup.py): finished with status 'done'\n",
      "  Created wheel for PyPDF2: filename=PyPDF2-1.26.0-py3-none-any.whl size=61094 sha256=34e6edd967626bfd149f58c5b34293cc75fee598018d2c202f37985b5d8eb208\n",
      "  Stored in directory: c:\\users\\eg 1000tx\\appdata\\local\\pip\\cache\\wheels\\71\\61\\d5\\5383a0b3a4f5eed2438f67d4a840fafda466dd0b7286d52ab5\n",
      "Successfully built PyPDF2\n",
      "Installing collected packages: PyPDF2\n",
      "  Attempting uninstall: PyPDF2\n",
      "    Found existing installation: PyPDF2 3.0.0\n",
      "    Uninstalling PyPDF2-3.0.0:\n",
      "      Successfully uninstalled PyPDF2-3.0.0\n",
      "Successfully installed PyPDF2-1.26.0\n",
      "Note: you may need to restart the kernel to use updated packages.\n"
     ]
    }
   ],
   "source": [
    "pip install PyPDF2==1.26.0\n"
   ]
  },
  {
   "cell_type": "code",
   "execution_count": 63,
   "id": "78cc1ca5-8c58-41e2-a9e7-398576ac63ff",
   "metadata": {},
   "outputs": [
    {
     "name": "stdout",
     "output_type": "stream",
     "text": [
      "Requirement already satisfied: pdfplumber in c:\\users\\eg 1000tx\\anaconda3\\lib\\site-packages (0.11.4)\n",
      "Requirement already satisfied: pdfminer.six==20231228 in c:\\users\\eg 1000tx\\anaconda3\\lib\\site-packages (from pdfplumber) (20231228)\n",
      "Requirement already satisfied: Pillow>=9.1 in c:\\users\\eg 1000tx\\anaconda3\\lib\\site-packages (from pdfplumber) (10.2.0)\n",
      "Requirement already satisfied: pypdfium2>=4.18.0 in c:\\users\\eg 1000tx\\anaconda3\\lib\\site-packages (from pdfplumber) (4.30.0)\n",
      "Requirement already satisfied: charset-normalizer>=2.0.0 in c:\\users\\eg 1000tx\\anaconda3\\lib\\site-packages (from pdfminer.six==20231228->pdfplumber) (2.0.4)\n",
      "Requirement already satisfied: cryptography>=36.0.0 in c:\\users\\eg 1000tx\\anaconda3\\lib\\site-packages (from pdfminer.six==20231228->pdfplumber) (42.0.2)\n",
      "Requirement already satisfied: cffi>=1.12 in c:\\users\\eg 1000tx\\anaconda3\\lib\\site-packages (from cryptography>=36.0.0->pdfminer.six==20231228->pdfplumber) (1.16.0)\n",
      "Requirement already satisfied: pycparser in c:\\users\\eg 1000tx\\anaconda3\\lib\\site-packages (from cffi>=1.12->cryptography>=36.0.0->pdfminer.six==20231228->pdfplumber) (2.21)\n",
      "Note: you may need to restart the kernel to use updated packages.\n"
     ]
    }
   ],
   "source": [
    "pip install pdfplumber\n"
   ]
  },
  {
   "cell_type": "code",
   "execution_count": 75,
   "id": "09732456-4bd1-4ebe-bbc2-c5d8ee9da680",
   "metadata": {},
   "outputs": [
    {
     "name": "stdout",
     "output_type": "stream",
     "text": [
      "No unemployment data found for Bachelor's degree.\n"
     ]
    }
   ],
   "source": [
    "import pdfplumber\n",
    "\n",
    "def extract_unemployment_info(pdf_path, page_num, degree_type):\n",
    "    with pdfplumber.open(pdf_path) as pdf:\n",
    "        # Get the specific page from the PDF\n",
    "        page = pdf.pages[page_num - 1]  # Page numbers start from 0\n",
    "        # Extract text from the page\n",
    "        text = page.extract_text()\n",
    "        \n",
    "        # Search for the degree type in the text and extract the relevant unemployment information\n",
    "        # Assuming the degree types are listed as \"Bachelor's\", \"Master's\", \"PhD\", etc.\n",
    "        \n",
    "        degree_type = degree_type.lower()  # Make the input degree type case-insensitive\n",
    "        \n",
    "        # Look for the degree-related data in the text\n",
    "        # This is a simple search method, you may need to refine it based on your PDF's structure\n",
    "        lines = text.split('\\n')\n",
    "        for line in lines:\n",
    "            if degree_type in line.lower():  # Case-insensitive match\n",
    "                # Extract the line containing the unemployment info related to the degree\n",
    "                print(f\"Found data for {degree_type.capitalize()} degree:\")\n",
    "                print(line)\n",
    "                return line\n",
    "        \n",
    "        return f\"No unemployment data found for {degree_type.capitalize()} degree.\"\n",
    "\n",
    "# Example usage\n",
    "pdf_path = 'Sithafal_Task1.pdf'\n",
    "page_num = 2\n",
    "degree_type = \"bachelor's\"\n",
    "\n",
    "unemployment_info = extract_unemployment_info(pdf_path, page_num, degree_type)\n",
    "\n",
    "# Print the unemployment information found\n",
    "print(unemployment_info)\n"
   ]
  },
  {
   "cell_type": "code",
   "execution_count": 76,
   "id": "d4ff9072-767f-4f9f-a3bb-e120a1e6e027",
   "metadata": {},
   "outputs": [
    {
     "name": "stdout",
     "output_type": "stream",
     "text": [
      "No unemployment data found for Doctral degree.\n"
     ]
    }
   ],
   "source": [
    "import pdfplumber\n",
    "\n",
    "def extract_unemployment_info(pdf_path, page_num, degree_type):\n",
    "    with pdfplumber.open(pdf_path) as pdf:\n",
    "        # Get the specific page from the PDF\n",
    "        page = pdf.pages[page_num - 1]  # Page numbers start from 0\n",
    "        # Extract text from the page\n",
    "        text = page.extract_text()\n",
    "        \n",
    "        # Search for the degree type in the text and extract the relevant unemployment information\n",
    "        # Assuming the degree types are listed as \"Bachelor's\", \"Master's\", \"PhD\", etc.\n",
    "        \n",
    "        degree_type = degree_type.lower()  # Make the input degree type case-insensitive\n",
    "        \n",
    "        # Look for the degree-related data in the text\n",
    "        # This is a simple search method, you may need to refine it based on your PDF's structure\n",
    "        lines = text.split('\\n')\n",
    "        for line in lines:\n",
    "            if degree_type in line.lower():  # Case-insensitive match\n",
    "                # Extract the line containing the unemployment info related to the degree\n",
    "                print(f\"Found data for {degree_type.capitalize()} degree:\")\n",
    "                print(line)\n",
    "                return line\n",
    "        \n",
    "        return f\"No unemployment data found for {degree_type.capitalize()} degree.\"\n",
    "\n",
    "# Example usage\n",
    "pdf_path = 'Sithafal_Task1.pdf'\n",
    "page_num = 2\n",
    "degree_type = 'Doctral'\n",
    "\n",
    "unemployment_info = extract_unemployment_info(pdf_path, page_num, degree_type)\n",
    "\n",
    "# Print the unemployment information found\n",
    "print(unemployment_info)"
   ]
  },
  {
   "cell_type": "code",
   "execution_count": 65,
   "id": "39a50230-aa91-4369-867f-82da50ac71f3",
   "metadata": {},
   "outputs": [
    {
     "name": "stdout",
     "output_type": "stream",
     "text": [
      "Extracted Table from Page 6:\n",
      "['Year', '2010', '2011', '2012', '2013', '2014', '2015']\n",
      "['All Industries', '26093515', '27535971', '28663246', '29601191', '30895407', '31397023']\n",
      "['Manufacturing', '4992521', '5581942', '5841608', '5953299', '6047477', '5829554']\n",
      "['Finance,\\nInsurance, Real\\nEstate, Rental,\\nLeasing', '4522451', '4618678', '4797313', '5031881', '5339678', '5597018']\n",
      "['Arts,\\nEntertainment,\\nRecreation,\\nAccommodation,\\nand Food Service', '964032', '1015238', '1076249', '1120496', '1189646', '1283813']\n",
      "['Other', '15614511', '16320113', '16948076', '17495515', '18318606', '18686638']\n"
     ]
    }
   ],
   "source": [
    "import pdfplumber\n",
    "\n",
    "def extract_table_from_pdf(pdf_path, page_num):\n",
    "    with pdfplumber.open(pdf_path) as pdf:\n",
    "        # Get the page from the PDF\n",
    "        page = pdf.pages[page_num - 1]  # Page numbers start from 0\n",
    "        # Extract tables from the page\n",
    "        tables = page.extract_tables()\n",
    "        if tables:\n",
    "            return tables[0]  # Return the first table\n",
    "        else:\n",
    "            return None  # No table found\n",
    "\n",
    "# Example usage\n",
    "pdf_path = 'Sithafal_Task1.pdf'\n",
    "page_num = 6\n",
    "table_data = extract_table_from_pdf(pdf_path, page_num)\n",
    "\n",
    "# Print the table if found\n",
    "if table_data:\n",
    "    print(f\"Extracted Table from Page {page_num}:\")\n",
    "    for row in table_data:\n",
    "        print(row)\n",
    "else:\n",
    "    print(f\"No table found on Page {page_num}.\")\n"
   ]
  },
  {
   "cell_type": "code",
   "execution_count": 68,
   "id": "0f167e56-beae-4643-b68e-fe4058d60061",
   "metadata": {},
   "outputs": [
    {
     "name": "stdout",
     "output_type": "stream",
     "text": [
      "Extracted Table from Page 6:\n",
      "                                                Year      2010      2011  \\\n",
      "0                                     All Industries  26093515  27535971   \n",
      "1                                      Manufacturing   4992521   5581942   \n",
      "2  Finance,\\nInsurance, Real\\nEstate, Rental,\\nLe...   4522451   4618678   \n",
      "3  Arts,\\nEntertainment,\\nRecreation,\\nAccommodat...    964032   1015238   \n",
      "4                                              Other  15614511  16320113   \n",
      "\n",
      "       2012      2013      2014      2015  \n",
      "0  28663246  29601191  30895407  31397023  \n",
      "1   5841608   5953299   6047477   5829554  \n",
      "2   4797313   5031881   5339678   5597018  \n",
      "3   1076249   1120496   1189646   1283813  \n",
      "4  16948076  17495515  18318606  18686638  \n"
     ]
    }
   ],
   "source": [
    "import pdfplumber\n",
    "import pandas as pd\n",
    "\n",
    "def extract_table_from_pdf(pdf_path, page_num):\n",
    "    with pdfplumber.open(pdf_path) as pdf:\n",
    "        # Get the page from the PDF\n",
    "        page = pdf.pages[page_num - 1]  # Page numbers start from 0\n",
    "        # Extract tables from the page\n",
    "        tables = page.extract_tables()\n",
    "        if tables:\n",
    "            return tables[0]  # Return the first table\n",
    "        else:\n",
    "            return None  # No table found\n",
    "\n",
    "# Example usage\n",
    "pdf_path = 'Sithafal_Task1.pdf'\n",
    "page_num = 6\n",
    "table_data = extract_table_from_pdf(pdf_path, page_num)\n",
    "\n",
    "# Print the table in a readable format using Pandas\n",
    "if table_data:\n",
    "    # Convert the extracted table into a Pandas DataFrame for better display\n",
    "    df = pd.DataFrame(table_data[1:], columns=table_data[0])  # Use the first row as columns\n",
    "    print(f\"Extracted Table from Page {page_num}:\")\n",
    "    print(df)\n",
    "else:\n",
    "    print(f\"No table found on Page {page_num}.\")\n"
   ]
  },
  {
   "cell_type": "code",
   "execution_count": null,
   "id": "f670baeb-28a8-43a6-8de6-e4c65240fadd",
   "metadata": {},
   "outputs": [],
   "source": []
  }
 ],
 "metadata": {
  "kernelspec": {
   "display_name": "Python 3 (ipykernel)",
   "language": "python",
   "name": "python3"
  },
  "language_info": {
   "codemirror_mode": {
    "name": "ipython",
    "version": 3
   },
   "file_extension": ".py",
   "mimetype": "text/x-python",
   "name": "python",
   "nbconvert_exporter": "python",
   "pygments_lexer": "ipython3",
   "version": "3.11.7"
  }
 },
 "nbformat": 4,
 "nbformat_minor": 5
}
